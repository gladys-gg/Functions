{
  "nbformat": 4,
  "nbformat_minor": 0,
  "metadata": {
    "colab": {
      "name": "Assignment2.ipynb",
      "provenance": [],
      "collapsed_sections": [],
      "authorship_tag": "ABX9TyPYq8ufCpo6tElyO21ZWNOz",
      "include_colab_link": true
    },
    "kernelspec": {
      "name": "python3",
      "display_name": "Python 3"
    },
    "language_info": {
      "name": "python"
    }
  },
  "cells": [
    {
      "cell_type": "markdown",
      "metadata": {
        "id": "view-in-github",
        "colab_type": "text"
      },
      "source": [
        "<a href=\"https://colab.research.google.com/github/gladys-gg/Functions/blob/main/Assignment2.ipynb\" target=\"_parent\"><img src=\"https://colab.research.google.com/assets/colab-badge.svg\" alt=\"Open In Colab\"/></a>"
      ]
    },
    {
      "cell_type": "code",
      "metadata": {
        "colab": {
          "base_uri": "https://localhost:8080/"
        },
        "id": "6WJ1pHn5ClL-",
        "outputId": "7c590e7b-b4af-43ce-bd71-b89dd3c92379"
      },
      "source": [
        "     #Create a program that asks the user to enter their name and their age. \n",
        "     #Print out a message addressed to them that tells them the year that they will turn 100 years old.\n",
        "     first_name= input('Enter your First Name: ')\n",
        "     last_name= input('Enter your Last Name: ')\n",
        "     my_age= int(input('Enter your age: '))\n",
        "     print('The name is: '+first_name+' '+last_name)\n",
        "     print('In 100 years, you will be {} years old.'.format(my_age+100))\n"
      ],
      "execution_count": null,
      "outputs": [
        {
          "output_type": "stream",
          "name": "stdout",
          "text": [
            "Enter your First Name: yes\n",
            "Enter your Last Name: no\n",
            "Enter your age: 14\n",
            "The name is: yes no\n",
            "In 100 years, you will be 114 years old.\n"
          ]
        }
      ]
    },
    {
      "cell_type": "code",
      "metadata": {
        "colab": {
          "base_uri": "https://localhost:8080/"
        },
        "id": "SeeGW0l4lydh",
        "outputId": "853ea713-5dc3-4965-fe15-61ffd29d4514"
      },
      "source": [
        "#Write a Python program to display the current date and time.\n",
        "import datetime\n",
        "now=datetime.datetime.now()\n",
        "print (\"Current date and time : \")\n",
        "print (now.strftime(\"%Y-%m-%d %H:%M:%S\"))"
      ],
      "execution_count": null,
      "outputs": [
        {
          "output_type": "stream",
          "name": "stdout",
          "text": [
            "Current date and time : \n",
            "2021-09-29 08:08:50\n"
          ]
        }
      ]
    },
    {
      "cell_type": "code",
      "metadata": {
        "colab": {
          "base_uri": "https://localhost:8080/"
        },
        "id": "_3CEvtKXmX1y",
        "outputId": "d48600ac-3d1f-4864-fd93-510672ace424"
      },
      "source": [
        "#Design a code that needs to perform simple time conversions, like days to seconds, hours to minutes, and so on. Please show your work.\n",
        "n=102000\n",
        "import time\n",
        "def convert(seconds):\n",
        "   minutes= seconds//60\n",
        "   seconds %= 60\n",
        "   hours =minutes//60\n",
        "   minutes %=60\n",
        "   seconds %= 3600\n",
        "   days =hours//24\n",
        "   hours %=24\n",
        "   return \"%d:%02d:%02d:%002d\" % (days,hours, minutes, seconds)\n",
        "print(convert(n))\n"
      ],
      "execution_count": null,
      "outputs": [
        {
          "output_type": "stream",
          "name": "stdout",
          "text": [
            "1:04:20:00\n"
          ]
        }
      ]
    },
    {
      "cell_type": "code",
      "metadata": {
        "id": "i5VwUTIxtnZ-",
        "colab": {
          "base_uri": "https://localhost:8080/"
        },
        "outputId": "e5a8d4cb-5afd-4d68-b22d-d84bd2b12e71"
      },
      "source": [
        "#Design a Python program to help calculate the BMI (Body Mass Index) of an individual. \n",
        "#If the person’s BMI is 25.0 and above, prompt that they are overweight, while the range of between 18.5 to 24.9 is healthy.\n",
        "Weight = float(input('Enter your weight in Kilograms: '))\n",
        "Height =float(input('Enter your height in Metres: '))\n",
        "BMI = Weight/(Height**2)\n",
        "if BMI <18.5:\n",
        "  result='Underweight'\n",
        "elif BMI >=18.5 and BMI <25.0:\n",
        "  result='Healthy'\n",
        "elif BMI >=25.0:\n",
        "  result='Overweight'\n",
        "print(result)\n",
        "print(\"Your BMI is: {0} and you are: \".format(BMI), result)\n",
        " "
      ],
      "execution_count": null,
      "outputs": [
        {
          "output_type": "stream",
          "name": "stdout",
          "text": [
            "Enter your weight in Kilograms: 70\n",
            "Enter your height in Metres: 1.75\n",
            "Healthy\n",
            "Your BMI is: 22.857142857142858 and you are:  Healthy\n"
          ]
        }
      ]
    },
    {
      "cell_type": "code",
      "metadata": {
        "colab": {
          "base_uri": "https://localhost:8080/"
        },
        "id": "WdFiD3hw1z1_",
        "outputId": "70cdfd1f-a0a4-4ca7-c139-cb73659810f4"
      },
      "source": [
        "#Create a Python program to convert Fahrenheit to Celsius using the following formula \n",
        "#celsius = (fahrenheit - 32) / 1.8.\n",
        "\n",
        "Fahrenheit = float(input('Enter temperature in Fahrenheit: ')) \n",
        "celsius = (Fahrenheit - 32)/1.8\n",
        "print(\"Temperature in celsius is: \", celsius)\n",
        "\n"
      ],
      "execution_count": null,
      "outputs": [
        {
          "output_type": "stream",
          "name": "stdout",
          "text": [
            "Enter temperature in Fahrenheit: 65\n",
            "Temperature in celsius is:  18.333333333333332\n"
          ]
        }
      ]
    }
  ]
}